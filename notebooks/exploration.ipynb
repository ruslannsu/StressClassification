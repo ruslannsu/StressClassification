{
 "cells": [
  {
   "cell_type": "code",
   "id": "3cb7e8f6-9dbe-42d9-a5a2-f011c7445257",
   "metadata": {
    "jupyter": {
     "is_executing": true
    }
   },
   "source": [
    "import pandas as pd"
   ],
   "outputs": [],
   "execution_count": null
  },
  {
   "cell_type": "markdown",
   "id": "cd640f40-a4b6-4a06-aca5-6bf074bb4db1",
   "metadata": {},
   "source": [
    "CSV reading"
   ]
  },
  {
   "cell_type": "code",
   "execution_count": 29,
   "id": "9eeb204c-db88-4339-b69b-dc99815da91a",
   "metadata": {
    "scrolled": true
   },
   "outputs": [
    {
     "name": "stdout",
     "output_type": "stream",
     "text": [
      "<class 'pandas.core.frame.DataFrame'>\n",
      "RangeIndex: 1000 entries, 0 to 999\n",
      "Data columns (total 7 columns):\n",
      " #   Column                  Non-Null Count  Dtype  \n",
      "---  ------                  --------------  -----  \n",
      " 0   heart_rate              1000 non-null   float64\n",
      " 1   respiration_rate        1000 non-null   float64\n",
      " 2   skin_temp               1000 non-null   float64\n",
      " 3   activity_level          1000 non-null   float64\n",
      " 4   step_count              1000 non-null   int64  \n",
      " 5   galvanic_skin_response  1000 non-null   float64\n",
      " 6   stress_level            1000 non-null   int64  \n",
      "dtypes: float64(5), int64(2)\n",
      "memory usage: 54.8 KB\n"
     ]
    }
   ],
   "source": [
    "data_frame = pd.read_csv(\"../data/synthetic_stress_data.csv\")"
   ]
  },
  {
   "cell_type": "markdown",
   "id": "249292a3-70c0-4e60-89e5-0efa42ed4114",
   "metadata": {},
   "source": [
    "DF check"
   ]
  },
  {
   "cell_type": "code",
   "execution_count": 30,
   "id": "6620576d-5bc6-4277-97ec-8e92f440852c",
   "metadata": {},
   "outputs": [
    {
     "name": "stdout",
     "output_type": "stream",
     "text": [
      "<class 'pandas.core.frame.DataFrame'>\n",
      "RangeIndex: 1000 entries, 0 to 999\n",
      "Data columns (total 7 columns):\n",
      " #   Column                  Non-Null Count  Dtype  \n",
      "---  ------                  --------------  -----  \n",
      " 0   heart_rate              1000 non-null   float64\n",
      " 1   respiration_rate        1000 non-null   float64\n",
      " 2   skin_temp               1000 non-null   float64\n",
      " 3   activity_level          1000 non-null   float64\n",
      " 4   step_count              1000 non-null   int64  \n",
      " 5   galvanic_skin_response  1000 non-null   float64\n",
      " 6   stress_level            1000 non-null   int64  \n",
      "dtypes: float64(5), int64(2)\n",
      "memory usage: 54.8 KB\n"
     ]
    }
   ],
   "source": [
    "data_frame.info()"
   ]
  },
  {
   "cell_type": "code",
   "execution_count": 31,
   "id": "a23e16b4-cbeb-44cb-8e29-59dda2417f31",
   "metadata": {},
   "outputs": [
    {
     "data": {
      "text/html": [
       "<div>\n",
       "<style scoped>\n",
       "    .dataframe tbody tr th:only-of-type {\n",
       "        vertical-align: middle;\n",
       "    }\n",
       "\n",
       "    .dataframe tbody tr th {\n",
       "        vertical-align: top;\n",
       "    }\n",
       "\n",
       "    .dataframe thead th {\n",
       "        text-align: right;\n",
       "    }\n",
       "</style>\n",
       "<table border=\"1\" class=\"dataframe\">\n",
       "  <thead>\n",
       "    <tr style=\"text-align: right;\">\n",
       "      <th></th>\n",
       "      <th>heart_rate</th>\n",
       "      <th>respiration_rate</th>\n",
       "      <th>skin_temp</th>\n",
       "      <th>activity_level</th>\n",
       "      <th>step_count</th>\n",
       "      <th>galvanic_skin_response</th>\n",
       "      <th>stress_level</th>\n",
       "    </tr>\n",
       "  </thead>\n",
       "  <tbody>\n",
       "    <tr>\n",
       "      <th>count</th>\n",
       "      <td>1000.000000</td>\n",
       "      <td>1000.000000</td>\n",
       "      <td>1000.000000</td>\n",
       "      <td>1000.000000</td>\n",
       "      <td>1000.000000</td>\n",
       "      <td>1000.000000</td>\n",
       "      <td>1000.000000</td>\n",
       "    </tr>\n",
       "    <tr>\n",
       "      <th>mean</th>\n",
       "      <td>74.704342</td>\n",
       "      <td>16.105902</td>\n",
       "      <td>33.483120</td>\n",
       "      <td>0.287537</td>\n",
       "      <td>28.531000</td>\n",
       "      <td>0.493804</td>\n",
       "      <td>0.999000</td>\n",
       "    </tr>\n",
       "    <tr>\n",
       "      <th>std</th>\n",
       "      <td>9.570107</td>\n",
       "      <td>3.059894</td>\n",
       "      <td>1.020070</td>\n",
       "      <td>0.164674</td>\n",
       "      <td>19.284162</td>\n",
       "      <td>0.143338</td>\n",
       "      <td>0.817109</td>\n",
       "    </tr>\n",
       "    <tr>\n",
       "      <th>min</th>\n",
       "      <td>50.000000</td>\n",
       "      <td>8.000000</td>\n",
       "      <td>30.222491</td>\n",
       "      <td>0.010102</td>\n",
       "      <td>0.000000</td>\n",
       "      <td>0.100000</td>\n",
       "      <td>0.000000</td>\n",
       "    </tr>\n",
       "    <tr>\n",
       "      <th>25%</th>\n",
       "      <td>68.132620</td>\n",
       "      <td>14.002470</td>\n",
       "      <td>32.790009</td>\n",
       "      <td>0.154746</td>\n",
       "      <td>14.000000</td>\n",
       "      <td>0.394423</td>\n",
       "      <td>0.000000</td>\n",
       "    </tr>\n",
       "    <tr>\n",
       "      <th>50%</th>\n",
       "      <td>74.478204</td>\n",
       "      <td>16.091434</td>\n",
       "      <td>33.501036</td>\n",
       "      <td>0.275078</td>\n",
       "      <td>25.000000</td>\n",
       "      <td>0.494113</td>\n",
       "      <td>1.000000</td>\n",
       "    </tr>\n",
       "    <tr>\n",
       "      <th>75%</th>\n",
       "      <td>81.253282</td>\n",
       "      <td>18.077843</td>\n",
       "      <td>34.161548</td>\n",
       "      <td>0.391624</td>\n",
       "      <td>39.000000</td>\n",
       "      <td>0.593471</td>\n",
       "      <td>2.000000</td>\n",
       "    </tr>\n",
       "    <tr>\n",
       "      <th>max</th>\n",
       "      <td>104.152592</td>\n",
       "      <td>25.010187</td>\n",
       "      <td>36.000000</td>\n",
       "      <td>0.882893</td>\n",
       "      <td>128.000000</td>\n",
       "      <td>0.936738</td>\n",
       "      <td>2.000000</td>\n",
       "    </tr>\n",
       "  </tbody>\n",
       "</table>\n",
       "</div>"
      ],
      "text/plain": [
       "        heart_rate  respiration_rate    skin_temp  activity_level  \\\n",
       "count  1000.000000       1000.000000  1000.000000     1000.000000   \n",
       "mean     74.704342         16.105902    33.483120        0.287537   \n",
       "std       9.570107          3.059894     1.020070        0.164674   \n",
       "min      50.000000          8.000000    30.222491        0.010102   \n",
       "25%      68.132620         14.002470    32.790009        0.154746   \n",
       "50%      74.478204         16.091434    33.501036        0.275078   \n",
       "75%      81.253282         18.077843    34.161548        0.391624   \n",
       "max     104.152592         25.010187    36.000000        0.882893   \n",
       "\n",
       "        step_count  galvanic_skin_response  stress_level  \n",
       "count  1000.000000             1000.000000   1000.000000  \n",
       "mean     28.531000                0.493804      0.999000  \n",
       "std      19.284162                0.143338      0.817109  \n",
       "min       0.000000                0.100000      0.000000  \n",
       "25%      14.000000                0.394423      0.000000  \n",
       "50%      25.000000                0.494113      1.000000  \n",
       "75%      39.000000                0.593471      2.000000  \n",
       "max     128.000000                0.936738      2.000000  "
      ]
     },
     "execution_count": 31,
     "metadata": {},
     "output_type": "execute_result"
    }
   ],
   "source": [
    "data_frame.describe()"
   ]
  },
  {
   "cell_type": "code",
   "execution_count": 33,
   "id": "0ceb4430-b61a-4e3b-af47-ccc4ff9ea4fd",
   "metadata": {},
   "outputs": [
    {
     "data": {
      "text/plain": [
       "heart_rate                0\n",
       "respiration_rate          0\n",
       "skin_temp                 0\n",
       "activity_level            0\n",
       "step_count                0\n",
       "galvanic_skin_response    0\n",
       "stress_level              0\n",
       "dtype: int64"
      ]
     },
     "execution_count": 33,
     "metadata": {},
     "output_type": "execute_result"
    }
   ],
   "source": [
    "data_frame.isnull().sum()"
   ]
  },
  {
   "cell_type": "code",
   "execution_count": null,
   "id": "2c64e9cc-d542-489d-b7e6-a39565cb6548",
   "metadata": {},
   "outputs": [],
   "source": ""
  },
  {
   "metadata": {},
   "cell_type": "code",
   "outputs": [],
   "execution_count": null,
   "source": "",
   "id": "9395fced78341ed4"
  }
 ],
 "metadata": {
  "kernelspec": {
   "display_name": "Python 3 (ipykernel)",
   "language": "python",
   "name": "python3"
  },
  "language_info": {
   "codemirror_mode": {
    "name": "ipython",
    "version": 3
   },
   "file_extension": ".py",
   "mimetype": "text/x-python",
   "name": "python",
   "nbconvert_exporter": "python",
   "pygments_lexer": "ipython3",
   "version": "3.10.8"
  }
 },
 "nbformat": 4,
 "nbformat_minor": 5
}
